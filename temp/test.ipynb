{
 "metadata": {
  "language_info": {
   "codemirror_mode": {
    "name": "ipython",
    "version": 3
   },
   "file_extension": ".py",
   "mimetype": "text/x-python",
   "name": "python",
   "nbconvert_exporter": "python",
   "pygments_lexer": "ipython3",
   "version": "3.8.3"
  },
  "orig_nbformat": 2,
  "kernelspec": {
   "name": "python383jvsc74a57bd059fd3c4f107c11f517f0bd1e50bcd46f16a52b6bc8ae5bce3fc081b55f3b4eea",
   "display_name": "Python 3.8.3 64-bit ('base': conda)"
  }
 },
 "nbformat": 4,
 "nbformat_minor": 2,
 "cells": [
  {
   "cell_type": "code",
   "execution_count": 2,
   "metadata": {},
   "outputs": [],
   "source": [
    "from PIL import Image, ImageDraw, ImageFont\n",
    "from matplotlib.pyplot import imshow\n",
    "import numpy as np"
   ]
  },
  {
   "cell_type": "code",
   "execution_count": null,
   "metadata": {},
   "outputs": [],
   "source": [
    "base_img = Image.open('background.png')\n",
    "panel_img = Image.open('panel.png')"
   ]
  },
  {
   "cell_type": "code",
   "execution_count": null,
   "metadata": {},
   "outputs": [],
   "source": [
    "imshow(np.asarray(base_img))"
   ]
  },
  {
   "cell_type": "code",
   "execution_count": null,
   "metadata": {},
   "outputs": [],
   "source": [
    "imshow(np.asarray(panel_img))"
   ]
  },
  {
   "cell_type": "code",
   "execution_count": null,
   "metadata": {},
   "outputs": [],
   "source": [
    "box = (75, 50, 225, 350)\n",
    "region = panel_img\n",
    "back = base_img.copy()\n",
    "back.paste(region, box)"
   ]
  },
  {
   "cell_type": "code",
   "execution_count": null,
   "metadata": {},
   "outputs": [],
   "source": [
    "imshow(np.asarray(back))"
   ]
  },
  {
   "cell_type": "code",
   "execution_count": null,
   "metadata": {},
   "outputs": [],
   "source": [
    "ziti = \"ZhanKuKuaiLeTi2016XiuDingBan.ttf\"\n",
    "fnt = ImageFont.truetype(ziti, size=16)"
   ]
  },
  {
   "cell_type": "code",
   "execution_count": null,
   "metadata": {},
   "outputs": [],
   "source": [
    "back = base_img.copy()\n",
    "d = ImageDraw.Draw(back)\n",
    "text = \"你好\"\n",
    "d.text((10,10), text, font=fnt, fill=(0, 0, 0), direction=\"ttb\")\n",
    "back.show()"
   ]
  },
  {
   "cell_type": "code",
   "execution_count": null,
   "metadata": {},
   "outputs": [],
   "source": [
    "import os, json"
   ]
  },
  {
   "cell_type": "code",
   "execution_count": null,
   "metadata": {},
   "outputs": [],
   "source": [
    "def readJson(file):\n",
    "    if not os.path.exists(file):\n",
    "        return \"File Not Found\"\n",
    "    with open(file, 'r', encoding='utf-8') as f:\n",
    "        content = f.read()\n",
    "    content = json.loads(content)\n",
    "    return content"
   ]
  },
  {
   "cell_type": "code",
   "execution_count": null,
   "metadata": {},
   "outputs": [],
   "source": [
    "a = readJson(\"text.json\")"
   ]
  },
  {
   "cell_type": "code",
   "execution_count": null,
   "metadata": {},
   "outputs": [],
   "source": [
    "type(a)"
   ]
  },
  {
   "cell_type": "code",
   "execution_count": 3,
   "metadata": {},
   "outputs": [
    {
     "output_type": "error",
     "ename": "ModuleNotFoundError",
     "evalue": "No module named 'temp'",
     "traceback": [
      "\u001b[1;31m---------------------------------------------------------------------------\u001b[0m",
      "\u001b[1;31mModuleNotFoundError\u001b[0m                       Traceback (most recent call last)",
      "\u001b[1;32m<ipython-input-3-1e3721cdff0e>\u001b[0m in \u001b[0;36m<module>\u001b[1;34m\u001b[0m\n\u001b[1;32m----> 1\u001b[1;33m \u001b[1;32mfrom\u001b[0m \u001b[0mtemp\u001b[0m\u001b[1;33m.\u001b[0m\u001b[0mutil\u001b[0m \u001b[1;32mimport\u001b[0m \u001b[0mreadJson\u001b[0m\u001b[1;33m\u001b[0m\u001b[1;33m\u001b[0m\u001b[0m\n\u001b[0m",
      "\u001b[1;31mModuleNotFoundError\u001b[0m: No module named 'temp'"
     ]
    }
   ],
   "source": [
    "from temp.util import readJson "
   ]
  },
  {
   "cell_type": "code",
   "execution_count": 24,
   "metadata": {},
   "outputs": [],
   "source": [
    "RES_FOLDER = \"resource\"\n",
    "BACK_FOLDER = \"backgrounds\"\n",
    "PANEL_IMG = \"panel.png\"\n",
    "FONT_NAME = \"ZhanKuKuaiLeTi2016XiuDingBan.ttf\"\n",
    "FONT_SIZE = 28\n",
    "FONT_COLOR = (0, 0, 0)\n",
    "FORTUNE_FILE = \"fortune.json\"\n",
    "TEXT_FILE = \"text.json\""
   ]
  },
  {
   "cell_type": "code",
   "execution_count": 25,
   "metadata": {},
   "outputs": [],
   "source": [
    "from PIL import Image, ImageDraw, ImageFont\n",
    "import numpy as np\n",
    "import json, os, random\n",
    "\n",
    "def readJson(file):\n",
    "    filename = os.path.join(RES_FOLDER, file)\n",
    "\n",
    "    if not os.path.exists(filename):\n",
    "        return [{\"score\": 0, \"name\":\"File {} Not Found\".format(filename)}]\n",
    "    with open(filename, \"r\", encoding=\"utf-8\") as f:\n",
    "        content = f.read()\n",
    "    content = json.loads(content)\n",
    "    return content\n",
    "\n",
    "def generate(textFile, fortuneFile):\n",
    "    result = dict()\n",
    "    \n",
    "    allScore = readJson(fortuneFile)\n",
    "    fortune = random.choice(allScore)\n",
    "    print(fortune)\n",
    "    score = fortune[\"score\"]\n",
    "    result[\"name\"] = fortune[\"name\"]\n",
    "\n",
    "    allText = readJson(textFile)\n",
    "    candidates = [entry for entry in allText if entry[\"score\"] == score]\n",
    "    text = random.choice(candidates)\n",
    "    print(text)\n",
    "    result[\"content\"] = text[\"content\"]\n",
    "\n",
    "    backgroundPath = os.path.join(RES_FOLDER, BACK_FOLDER)\n",
    "    result[\"background\"] = random.choice(os.listdir(backgroundPath))\n",
    "\n",
    "    return result"
   ]
  },
  {
   "cell_type": "code",
   "execution_count": 26,
   "metadata": {},
   "outputs": [
    {
     "output_type": "stream",
     "name": "stdout",
     "text": [
      "{'score': 9, 'name': '中吉'}\n{'score': 9, 'content': '原本的魅力闪耀的一天 珍惜喜欢的事物'}\n"
     ]
    },
    {
     "output_type": "execute_result",
     "data": {
      "text/plain": [
       "{'name': '中吉',\n",
       " 'content': '原本的魅力闪耀的一天 珍惜喜欢的事物',\n",
       " 'background': 'background - 副本.png'}"
      ]
     },
     "metadata": {},
     "execution_count": 26
    }
   ],
   "source": [
    "result = generate(TEXT_FILE, FORTUNE_FILE)\n",
    "result"
   ]
  },
  {
   "cell_type": "code",
   "execution_count": 33,
   "metadata": {},
   "outputs": [],
   "source": [
    "def drawImage(result):\n",
    "    base_img = Image.open(os.path.join(RES_FOLDER, BACK_FOLDER, result['background']))\n",
    "    panel_img = Image.open(os.path.join(RES_FOLDER, PANEL_IMG))\n",
    "\n",
    "    box = (75, 100, 225, 400)\n",
    "    \n",
    "    new = base_img.copy()\n",
    "    new.paste(panel_img, box)\n",
    "\n",
    "    fnt = ImageFont.truetype(os.path.join(RES_FOLDER, FONT_NAME), size=FONT_SIZE)\n",
    "\n",
    "    draw = ImageDraw.Draw(new)\n",
    "    text = \"\\n\".join([result['name']] + result[\"content\"].split())\n",
    "    print(text)\n",
    "    draw.multiline_text((10,10), text, font=fnt, fill=FONT_COLOR)\n",
    "    return new"
   ]
  },
  {
   "cell_type": "code",
   "execution_count": 35,
   "metadata": {},
   "outputs": [
    {
     "output_type": "stream",
     "name": "stdout",
     "text": [
      "中吉\n原本的魅力闪耀的一天\n珍惜喜欢的事物\n"
     ]
    }
   ],
   "source": [
    "drawImage(result).show()"
   ]
  }
 ]
}